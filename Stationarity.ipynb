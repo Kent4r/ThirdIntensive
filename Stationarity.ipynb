{
 "cells": [
  {
   "cell_type": "markdown",
   "metadata": {},
   "source": [
    "Исследование на стационарность"
   ]
  },
  {
   "cell_type": "code",
   "execution_count": 1,
   "metadata": {},
   "outputs": [
    {
     "name": "stdout",
     "output_type": "stream",
     "text": [
      "ADF Statistic: -2.927646128501066\n",
      "p-value: 0.0422262900878155\n",
      "Critical Values:\n",
      "   1%: -3.44911857009962\n",
      "   5%: -2.8698097654570507\n",
      "   10%: -2.5711757061225153\n",
      "Ряд 'Концентрат коксующегося угля_Россия марка Ж+ГЖ FCA руб./т, без НДС' стационарен (отвергаем нулевую гипотезу)!!!!!!!\n",
      "ADF Statistic: -3.0623525329996593\n",
      "p-value: 0.029467650171594344\n",
      "Critical Values:\n",
      "   1%: -3.4490648539347544\n",
      "   5%: -2.8697861692116478\n",
      "   10%: -2.5711631253228306\n",
      "Ряд 'Концентрат коксующегося угля_Средняя шихта Россия FCA руб./т, без НДС' стационарен (отвергаем нулевую гипотезу)!!!!!!!\n",
      "ADF Statistic: -3.148858112583127\n",
      "p-value: 0.023142474896558723\n",
      "Critical Values:\n",
      "   1%: -3.44911857009962\n",
      "   5%: -2.8698097654570507\n",
      "   10%: -2.5711757061225153\n",
      "Ряд 'Концентрат коксующегося угля_Россия марка ГЖ FCA руб./т, без НДС' стационарен (отвергаем нулевую гипотезу)!!!!!!!\n"
     ]
    }
   ],
   "source": [
    "import pandas as pd\n",
    "from statsmodels.tsa.stattools import adfuller\n",
    "\n",
    "data = pd.read_csv(\"df_merged_cleaned.csv\")\n",
    "data['dt'] = pd.to_datetime(data['dt'])\n",
    "data.set_index('dt', inplace=True)\n",
    "\n",
    "for column in data.columns[1:]:\n",
    "    # Проведение теста Дики-Фуллера\n",
    "    result = adfuller(data[column])\n",
    "    \n",
    "    # Интерпретация результата\n",
    "    if result[1] < 0.05:\n",
    "        print('ADF Statistic:', result[0])\n",
    "        print('p-value:', result[1])\n",
    "        print('Critical Values:')\n",
    "        for key, value in result[4].items():\n",
    "            print(f'   {key}: {value}')\n",
    "        print(f\"Ряд '{column}' стационарен (отвергаем нулевую гипотезу)!!!!!!!\")\n"
   ]
  }
 ],
 "metadata": {
  "kernelspec": {
   "display_name": "Python 3",
   "language": "python",
   "name": "python3"
  },
  "language_info": {
   "codemirror_mode": {
    "name": "ipython",
    "version": 3
   },
   "file_extension": ".py",
   "mimetype": "text/x-python",
   "name": "python",
   "nbconvert_exporter": "python",
   "pygments_lexer": "ipython3",
   "version": "3.13.1"
  }
 },
 "nbformat": 4,
 "nbformat_minor": 2
}
