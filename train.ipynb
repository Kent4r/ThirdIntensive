{
 "cells": [
  {
   "cell_type": "code",
   "execution_count": 1,
   "metadata": {},
   "outputs": [],
   "source": [
    "import pandas as pd"
   ]
  },
  {
   "cell_type": "code",
   "execution_count": 76,
   "metadata": {},
   "outputs": [],
   "source": [
    "df = pd.read_csv(\"data/train.csv\")\n",
    "df_train = pd.DataFrame()\n",
    "df_train['Date'] = pd.to_datetime(df['dt'], format=\"%d.%m.%Y\")\n",
    "df_train['Price'] = df['Цена на арматуру']\n",
    "df = pd.read_csv(\"data/test.csv\")\n",
    "df_test = pd.DataFrame()\n",
    "df_test['Date'] = pd.to_datetime(df['dt'], format=\"%Y.%m.%d\")\n",
    "df_test['Price'] = df['Цена на арматуру']\n",
    "df = pd.concat((df_train, df_test)).reset_index(drop=True)"
   ]
  },
  {
   "cell_type": "code",
   "execution_count": 77,
   "metadata": {},
   "outputs": [
    {
     "name": "stdout",
     "output_type": "stream",
     "text": [
      "<class 'pandas.core.frame.DataFrame'>\n",
      "RangeIndex: 428 entries, 0 to 427\n",
      "Data columns (total 2 columns):\n",
      " #   Column  Non-Null Count  Dtype         \n",
      "---  ------  --------------  -----         \n",
      " 0   Date    428 non-null    datetime64[ns]\n",
      " 1   Price   428 non-null    int64         \n",
      "dtypes: datetime64[ns](1), int64(1)\n",
      "memory usage: 6.8 KB\n"
     ]
    }
   ],
   "source": [
    "df.info()"
   ]
  },
  {
   "cell_type": "code",
   "execution_count": 78,
   "metadata": {},
   "outputs": [
    {
     "data": {
      "text/html": [
       "<div>\n",
       "<style scoped>\n",
       "    .dataframe tbody tr th:only-of-type {\n",
       "        vertical-align: middle;\n",
       "    }\n",
       "\n",
       "    .dataframe tbody tr th {\n",
       "        vertical-align: top;\n",
       "    }\n",
       "\n",
       "    .dataframe thead th {\n",
       "        text-align: right;\n",
       "    }\n",
       "</style>\n",
       "<table border=\"1\" class=\"dataframe\">\n",
       "  <thead>\n",
       "    <tr style=\"text-align: right;\">\n",
       "      <th></th>\n",
       "      <th>Date</th>\n",
       "      <th>Price</th>\n",
       "    </tr>\n",
       "  </thead>\n",
       "  <tbody>\n",
       "    <tr>\n",
       "      <th>count</th>\n",
       "      <td>428</td>\n",
       "      <td>428.000000</td>\n",
       "    </tr>\n",
       "    <tr>\n",
       "      <th>mean</th>\n",
       "      <td>2019-02-07 12:00:00</td>\n",
       "      <td>39557.920561</td>\n",
       "    </tr>\n",
       "    <tr>\n",
       "      <th>min</th>\n",
       "      <td>2015-01-05 00:00:00</td>\n",
       "      <td>21000.000000</td>\n",
       "    </tr>\n",
       "    <tr>\n",
       "      <th>25%</th>\n",
       "      <td>2017-01-21 06:00:00</td>\n",
       "      <td>31650.000000</td>\n",
       "    </tr>\n",
       "    <tr>\n",
       "      <th>50%</th>\n",
       "      <td>2019-02-07 12:00:00</td>\n",
       "      <td>36150.000000</td>\n",
       "    </tr>\n",
       "    <tr>\n",
       "      <th>75%</th>\n",
       "      <td>2021-02-23 18:00:00</td>\n",
       "      <td>43162.500000</td>\n",
       "    </tr>\n",
       "    <tr>\n",
       "      <th>max</th>\n",
       "      <td>2023-03-13 00:00:00</td>\n",
       "      <td>79000.000000</td>\n",
       "    </tr>\n",
       "    <tr>\n",
       "      <th>std</th>\n",
       "      <td>NaN</td>\n",
       "      <td>13052.612976</td>\n",
       "    </tr>\n",
       "  </tbody>\n",
       "</table>\n",
       "</div>"
      ],
      "text/plain": [
       "                      Date         Price\n",
       "count                  428    428.000000\n",
       "mean   2019-02-07 12:00:00  39557.920561\n",
       "min    2015-01-05 00:00:00  21000.000000\n",
       "25%    2017-01-21 06:00:00  31650.000000\n",
       "50%    2019-02-07 12:00:00  36150.000000\n",
       "75%    2021-02-23 18:00:00  43162.500000\n",
       "max    2023-03-13 00:00:00  79000.000000\n",
       "std                    NaN  13052.612976"
      ]
     },
     "execution_count": 78,
     "metadata": {},
     "output_type": "execute_result"
    }
   ],
   "source": [
    "df.describe()"
   ]
  },
  {
   "cell_type": "code",
   "execution_count": 79,
   "metadata": {},
   "outputs": [
    {
     "data": {
      "text/plain": [
       "Date     datetime64[ns]\n",
       "Price             int64\n",
       "dtype: object"
      ]
     },
     "execution_count": 79,
     "metadata": {},
     "output_type": "execute_result"
    }
   ],
   "source": [
    "df.dtypes"
   ]
  },
  {
   "cell_type": "code",
   "execution_count": 82,
   "metadata": {},
   "outputs": [
    {
     "data": {
      "text/html": [
       "<div>\n",
       "<style scoped>\n",
       "    .dataframe tbody tr th:only-of-type {\n",
       "        vertical-align: middle;\n",
       "    }\n",
       "\n",
       "    .dataframe tbody tr th {\n",
       "        vertical-align: top;\n",
       "    }\n",
       "\n",
       "    .dataframe thead th {\n",
       "        text-align: right;\n",
       "    }\n",
       "</style>\n",
       "<table border=\"1\" class=\"dataframe\">\n",
       "  <thead>\n",
       "    <tr style=\"text-align: right;\">\n",
       "      <th></th>\n",
       "      <th>Price_source</th>\n",
       "      <th>Price_Diff</th>\n",
       "    </tr>\n",
       "  </thead>\n",
       "  <tbody>\n",
       "    <tr>\n",
       "      <th>1</th>\n",
       "      <td>32500</td>\n",
       "      <td>400</td>\n",
       "    </tr>\n",
       "    <tr>\n",
       "      <th>2</th>\n",
       "      <td>32000</td>\n",
       "      <td>500</td>\n",
       "    </tr>\n",
       "    <tr>\n",
       "      <th>3</th>\n",
       "      <td>30700</td>\n",
       "      <td>1300</td>\n",
       "    </tr>\n",
       "    <tr>\n",
       "      <th>4</th>\n",
       "      <td>30300</td>\n",
       "      <td>400</td>\n",
       "    </tr>\n",
       "    <tr>\n",
       "      <th>5</th>\n",
       "      <td>30300</td>\n",
       "      <td>0</td>\n",
       "    </tr>\n",
       "    <tr>\n",
       "      <th>...</th>\n",
       "      <td>...</td>\n",
       "      <td>...</td>\n",
       "    </tr>\n",
       "    <tr>\n",
       "      <th>422</th>\n",
       "      <td>44500</td>\n",
       "      <td>-1700</td>\n",
       "    </tr>\n",
       "    <tr>\n",
       "      <th>423</th>\n",
       "      <td>44500</td>\n",
       "      <td>0</td>\n",
       "    </tr>\n",
       "    <tr>\n",
       "      <th>424</th>\n",
       "      <td>46000</td>\n",
       "      <td>-1500</td>\n",
       "    </tr>\n",
       "    <tr>\n",
       "      <th>425</th>\n",
       "      <td>49200</td>\n",
       "      <td>-3200</td>\n",
       "    </tr>\n",
       "    <tr>\n",
       "      <th>426</th>\n",
       "      <td>53700</td>\n",
       "      <td>-4500</td>\n",
       "    </tr>\n",
       "  </tbody>\n",
       "</table>\n",
       "<p>426 rows × 2 columns</p>\n",
       "</div>"
      ],
      "text/plain": [
       "     Price_source  Price_Diff\n",
       "1           32500         400\n",
       "2           32000         500\n",
       "3           30700        1300\n",
       "4           30300         400\n",
       "5           30300           0\n",
       "..            ...         ...\n",
       "422         44500       -1700\n",
       "423         44500           0\n",
       "424         46000       -1500\n",
       "425         49200       -3200\n",
       "426         53700       -4500\n",
       "\n",
       "[426 rows x 2 columns]"
      ]
     },
     "execution_count": 82,
     "metadata": {},
     "output_type": "execute_result"
    }
   ],
   "source": [
    "X = df.drop(columns=['Price']).iloc[:-1, :]\n",
    "y = df['Price'].values[1:]\n",
    "X['Price_target'] = y\n",
    "X['Price_source'] = df['Price'].values[:-1]\n",
    "price_diff = X['Price_source'] - X['Price_target']\n",
    "y = X['Price_target']\n",
    "X = X.drop(columns=['Price_target', 'Date'])\n",
    "X = X.drop([0])\n",
    "X['Price_Diff'] = price_diff.values[:-1]\n",
    "X"
   ]
  },
  {
   "cell_type": "code",
   "execution_count": 83,
   "metadata": {},
   "outputs": [
    {
     "data": {
      "text/plain": [
       "0      32500\n",
       "1      32000\n",
       "2      30700\n",
       "3      30300\n",
       "4      30300\n",
       "       ...  \n",
       "422    44500\n",
       "423    46000\n",
       "424    49200\n",
       "425    53700\n",
       "426    55500\n",
       "Name: Price_target, Length: 427, dtype: int64"
      ]
     },
     "execution_count": 83,
     "metadata": {},
     "output_type": "execute_result"
    }
   ],
   "source": [
    "y"
   ]
  },
  {
   "cell_type": "code",
   "execution_count": 84,
   "metadata": {},
   "outputs": [
    {
     "data": {
      "text/plain": [
       "(426, 2)"
      ]
     },
     "execution_count": 84,
     "metadata": {},
     "output_type": "execute_result"
    }
   ],
   "source": [
    "X.shape"
   ]
  },
  {
   "cell_type": "code",
   "execution_count": 89,
   "metadata": {},
   "outputs": [],
   "source": [
    "from sklearn.model_selection import train_test_split\n",
    "y = y[X.index]  # Пересинхронизируем индексы\n",
    "\n",
    "X_train, X_holdout, y_train, y_holdout = train_test_split(\n",
    "    X, y, test_size=0.2, shuffle=True, random_state=42\n",
    ")"
   ]
  },
  {
   "cell_type": "code",
   "execution_count": null,
   "metadata": {},
   "outputs": [
    {
     "ename": "NameError",
     "evalue": "name 'CatBoostRegressor' is not defined",
     "output_type": "error",
     "traceback": [
      "\u001b[31m---------------------------------------------------------------------------\u001b[39m",
      "\u001b[31mNameError\u001b[39m                                 Traceback (most recent call last)",
      "\u001b[36mCell\u001b[39m\u001b[36m \u001b[39m\u001b[32mIn[90]\u001b[39m\u001b[32m, line 1\u001b[39m\n\u001b[32m----> \u001b[39m\u001b[32m1\u001b[39m model0 = \u001b[43mCatBoostRegressor\u001b[49m(iterations=\u001b[32m10000\u001b[39m, depth = \u001b[32m7\u001b[39m, loss_function=\u001b[33m'\u001b[39m\u001b[33mMAE\u001b[39m\u001b[33m'\u001b[39m , learning_rate = \u001b[32m0.03\u001b[39m,  eval_metric=\u001b[33m\"\u001b[39m\u001b[33mMAE\u001b[39m\u001b[33m\"\u001b[39m,\n\u001b[32m      2\u001b[39m early_stopping_rounds = \u001b[32m100\u001b[39m , random_state=\u001b[32m42\u001b[39m)\n",
      "\u001b[31mNameError\u001b[39m: name 'CatBoostRegressor' is not defined"
     ]
    }
   ],
   "source": [
    "from catboost import CatBoostRegressor\n",
    "model0 = CatBoostRegressor(iterations=10000, depth = 7, loss_function='MAE' , learning_rate = 0.03,  eval_metric=\"MAE\",\n",
    "early_stopping_rounds = 100 , random_state=42)\n",
    "# ---------------------\n",
    "import xgboost as xgb\n",
    "from sklearn.metrics import mean_squared_error\n",
    "\n",
    "model = xgb.XGBRegressor(objective='reg:squarederror', n_estimators=100, learning_rate=0.1, max_depth=5)\n",
    "model.fit(X_train, y_train)\n",
    "\n",
    "# Предсказание\n",
    "y_pred = model.predict(X_test)\n",
    "\n",
    "# Оценка модели\n",
    "mse = mean_squared_error(y_test, y_pred)\n",
    "print(f'MSE: {mse}')"
   ]
  },
  {
   "cell_type": "code",
   "execution_count": 64,
   "metadata": {},
   "outputs": [],
   "source": [
    "df_train = df['Price'].iloc[:-28]\n",
    "df_test = df['Price'].iloc[-28:]"
   ]
  },
  {
   "cell_type": "code",
   "execution_count": 65,
   "metadata": {},
   "outputs": [
    {
     "data": {
      "text/plain": [
       "0      32900\n",
       "1      32500\n",
       "2      32000\n",
       "3      30700\n",
       "4      30300\n",
       "       ...  \n",
       "395    47500\n",
       "396    49000\n",
       "397    47500\n",
       "398    46500\n",
       "399    46000\n",
       "Name: Price, Length: 400, dtype: int64"
      ]
     },
     "execution_count": 65,
     "metadata": {},
     "output_type": "execute_result"
    }
   ],
   "source": [
    "df_train"
   ]
  },
  {
   "cell_type": "code",
   "execution_count": 66,
   "metadata": {},
   "outputs": [
    {
     "data": {
      "text/plain": [
       "400    46000\n",
       "401    46000\n",
       "402    46000\n",
       "403    45500\n",
       "404    45500\n",
       "405    45000\n",
       "406    44000\n",
       "407    43000\n",
       "408    42000\n",
       "409    41500\n",
       "410    41000\n",
       "411    40000\n",
       "412    40000\n",
       "413    40500\n",
       "414    41700\n",
       "415    41700\n",
       "416    42500\n",
       "417    42700\n",
       "418    42700\n",
       "419    42700\n",
       "420    42800\n",
       "421    42800\n",
       "422    44500\n",
       "423    44500\n",
       "424    46000\n",
       "425    49200\n",
       "426    53700\n",
       "427    55500\n",
       "Name: Price, dtype: int64"
      ]
     },
     "execution_count": 66,
     "metadata": {},
     "output_type": "execute_result"
    }
   ],
   "source": [
    "df_test"
   ]
  },
  {
   "cell_type": "code",
   "execution_count": 67,
   "metadata": {},
   "outputs": [],
   "source": [
    "from sklearn.metrics import mean_absolute_error, mean_squared_error, r2_score"
   ]
  },
  {
   "cell_type": "code",
   "execution_count": 68,
   "metadata": {},
   "outputs": [],
   "source": [
    "from statsmodels.tsa.ar_model import AutoReg\n",
    "model = AutoReg(df_train, lags=145).fit()\n",
    "# best_score = [-1000, -1]\n",
    "# for i in range(1, 149):\n",
    "#     model = AutoReg(df_train, lags=i).fit()\n",
    "#     forecasts = model.forecast(50).tolist()\n",
    "#     if r2_score(forecasts, df_test) > best_score[0]:\n",
    "#         best_score = [r2_score(forecasts, df_test), i]\n",
    "# print(best_score)"
   ]
  },
  {
   "cell_type": "code",
   "execution_count": 69,
   "metadata": {},
   "outputs": [],
   "source": [
    "y = model.forecast(28).tolist()"
   ]
  },
  {
   "cell_type": "code",
   "execution_count": 70,
   "metadata": {},
   "outputs": [
    {
     "name": "stdout",
     "output_type": "stream",
     "text": [
      "R2 score: -3.389422930970797\n",
      "MSE score: 243416435.37135744\n",
      "MAE score: 12991.617705382305\n"
     ]
    }
   ],
   "source": [
    "print('R2 score:', r2_score(y, df_test))\n",
    "print('MSE score:', mean_squared_error(y, df_test))\n",
    "print('MAE score:', mean_absolute_error(y, df_test))"
   ]
  },
  {
   "cell_type": "code",
   "execution_count": 71,
   "metadata": {},
   "outputs": [
    {
     "data": {
      "image/png": "[encoded data removed]",
      "text/plain": [
       "<Figure size 1400x600 with 1 Axes>"
      ]
     },
     "metadata": {},
     "output_type": "display_data"
    }
   ],
   "source": [
    "import matplotlib.pyplot as plt\n",
    "plt.figure(figsize=(14, 6))\n",
    "if isinstance(df_test, (pd.Series, pd.DataFrame)):\n",
    "    df_test_reset = df_test.reset_index(drop=True)\n",
    "else:\n",
    "    df_test_reset = pd.Series(df_test)\n",
    "plt.plot(df_test_reset, label='Фактические значения')\n",
    "plt.plot(y, label='Предсказанные значения')\n",
    "plt.title('Сравнение фактических и предсказанных значений')\n",
    "plt.xlabel('Индекс')\n",
    "plt.ylabel('Значения')\n",
    "plt.legend()\n",
    "plt.show()"
   ]
  }
 ],
 "metadata": {
  "kernelspec": {
   "display_name": "Python 3",
   "language": "python",
   "name": "python3"
  },
  "language_info": {
   "codemirror_mode": {
    "name": "ipython",
    "version": 3
   },
   "file_extension": ".py",
   "mimetype": "text/x-python",
   "name": "python",
   "nbconvert_exporter": "python",
   "pygments_lexer": "ipython3",
   "version": "3.11.9"
  }
 },
 "nbformat": 4,
 "nbformat_minor": 2
}
