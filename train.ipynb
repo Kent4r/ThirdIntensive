{
 "cells": [
  {
   "cell_type": "code",
   "execution_count": 1,
   "metadata": {},
   "outputs": [],
   "source": [
    "import pandas as pd"
   ]
  },
  {
   "cell_type": "code",
   "execution_count": 2,
   "metadata": {},
   "outputs": [],
   "source": [
    "import matplotlib.pyplot as plt\n",
    "from statsmodels.tsa.ar_model import AutoReg"
   ]
  },
  {
   "cell_type": "code",
   "execution_count": 3,
   "metadata": {},
   "outputs": [],
   "source": [
    "from sklearn.model_selection import train_test_split"
   ]
  },
  {
   "cell_type": "code",
   "execution_count": 4,
   "metadata": {},
   "outputs": [],
   "source": [
    "from sklearn.metrics import mean_absolute_error, mean_squared_error, r2_score"
   ]
  },
  {
   "cell_type": "code",
   "execution_count": 5,
   "metadata": {},
   "outputs": [],
   "source": [
    "df = pd.read_csv(\"data/train.csv\")\n",
    "df_train = pd.DataFrame()\n",
    "df_train['Date'] = pd.to_datetime(df['dt'], format=\"%d.%m.%Y\")\n",
    "df_train['Price'] = df['Цена на арматуру']\n",
    "df = pd.read_csv(\"data/test.csv\")\n",
    "df_test = pd.DataFrame()\n",
    "df_test['Date'] = pd.to_datetime(df['dt'], format=\"%Y.%m.%d\")\n",
    "df_test['Price'] = df['Цена на арматуру']\n",
    "df = pd.concat((df_train, df_test)).reset_index(drop=True)"
   ]
  },
  {
   "cell_type": "code",
   "execution_count": 485,
   "metadata": {},
   "outputs": [
    {
     "data": {
      "text/html": [
       "<div>\n",
       "<style scoped>\n",
       "    .dataframe tbody tr th:only-of-type {\n",
       "        vertical-align: middle;\n",
       "    }\n",
       "\n",
       "    .dataframe tbody tr th {\n",
       "        vertical-align: top;\n",
       "    }\n",
       "\n",
       "    .dataframe thead th {\n",
       "        text-align: right;\n",
       "    }\n",
       "</style>\n",
       "<table border=\"1\" class=\"dataframe\">\n",
       "  <thead>\n",
       "    <tr style=\"text-align: right;\">\n",
       "      <th></th>\n",
       "      <th>Date</th>\n",
       "      <th>Price</th>\n",
       "    </tr>\n",
       "  </thead>\n",
       "  <tbody>\n",
       "    <tr>\n",
       "      <th>0</th>\n",
       "      <td>2015-01-05</td>\n",
       "      <td>32900</td>\n",
       "    </tr>\n",
       "    <tr>\n",
       "      <th>1</th>\n",
       "      <td>2015-01-12</td>\n",
       "      <td>32500</td>\n",
       "    </tr>\n",
       "    <tr>\n",
       "      <th>2</th>\n",
       "      <td>2015-01-19</td>\n",
       "      <td>32000</td>\n",
       "    </tr>\n",
       "    <tr>\n",
       "      <th>3</th>\n",
       "      <td>2015-01-26</td>\n",
       "      <td>30700</td>\n",
       "    </tr>\n",
       "    <tr>\n",
       "      <th>4</th>\n",
       "      <td>2015-02-02</td>\n",
       "      <td>30300</td>\n",
       "    </tr>\n",
       "    <tr>\n",
       "      <th>5</th>\n",
       "      <td>2015-02-09</td>\n",
       "      <td>30300</td>\n",
       "    </tr>\n",
       "    <tr>\n",
       "      <th>6</th>\n",
       "      <td>2015-02-16</td>\n",
       "      <td>30100</td>\n",
       "    </tr>\n",
       "    <tr>\n",
       "      <th>7</th>\n",
       "      <td>2015-02-23</td>\n",
       "      <td>29400</td>\n",
       "    </tr>\n",
       "    <tr>\n",
       "      <th>8</th>\n",
       "      <td>2015-03-02</td>\n",
       "      <td>29200</td>\n",
       "    </tr>\n",
       "    <tr>\n",
       "      <th>9</th>\n",
       "      <td>2015-03-09</td>\n",
       "      <td>29000</td>\n",
       "    </tr>\n",
       "  </tbody>\n",
       "</table>\n",
       "</div>"
      ],
      "text/plain": [
       "        Date  Price\n",
       "0 2015-01-05  32900\n",
       "1 2015-01-12  32500\n",
       "2 2015-01-19  32000\n",
       "3 2015-01-26  30700\n",
       "4 2015-02-02  30300\n",
       "5 2015-02-09  30300\n",
       "6 2015-02-16  30100\n",
       "7 2015-02-23  29400\n",
       "8 2015-03-02  29200\n",
       "9 2015-03-09  29000"
      ]
     },
     "execution_count": 485,
     "metadata": {},
     "output_type": "execute_result"
    }
   ],
   "source": [
    "df.head(10)"
   ]
  },
  {
   "cell_type": "code",
   "execution_count": 486,
   "metadata": {},
   "outputs": [
    {
     "name": "stdout",
     "output_type": "stream",
     "text": [
      "<class 'pandas.core.frame.DataFrame'>\n",
      "RangeIndex: 428 entries, 0 to 427\n",
      "Data columns (total 2 columns):\n",
      " #   Column  Non-Null Count  Dtype         \n",
      "---  ------  --------------  -----         \n",
      " 0   Date    428 non-null    datetime64[ns]\n",
      " 1   Price   428 non-null    int64         \n",
      "dtypes: datetime64[ns](1), int64(1)\n",
      "memory usage: 6.8 KB\n"
     ]
    }
   ],
   "source": [
    "df.info()"
   ]
  },
  {
   "cell_type": "code",
   "execution_count": 487,
   "metadata": {},
   "outputs": [
    {
     "data": {
      "text/html": [
       "<div>\n",
       "<style scoped>\n",
       "    .dataframe tbody tr th:only-of-type {\n",
       "        vertical-align: middle;\n",
       "    }\n",
       "\n",
       "    .dataframe tbody tr th {\n",
       "        vertical-align: top;\n",
       "    }\n",
       "\n",
       "    .dataframe thead th {\n",
       "        text-align: right;\n",
       "    }\n",
       "</style>\n",
       "<table border=\"1\" class=\"dataframe\">\n",
       "  <thead>\n",
       "    <tr style=\"text-align: right;\">\n",
       "      <th></th>\n",
       "      <th>Date</th>\n",
       "      <th>Price</th>\n",
       "    </tr>\n",
       "  </thead>\n",
       "  <tbody>\n",
       "    <tr>\n",
       "      <th>count</th>\n",
       "      <td>428</td>\n",
       "      <td>428.000000</td>\n",
       "    </tr>\n",
       "    <tr>\n",
       "      <th>mean</th>\n",
       "      <td>2019-02-07 12:00:00</td>\n",
       "      <td>39557.920561</td>\n",
       "    </tr>\n",
       "    <tr>\n",
       "      <th>min</th>\n",
       "      <td>2015-01-05 00:00:00</td>\n",
       "      <td>21000.000000</td>\n",
       "    </tr>\n",
       "    <tr>\n",
       "      <th>25%</th>\n",
       "      <td>2017-01-21 06:00:00</td>\n",
       "      <td>31650.000000</td>\n",
       "    </tr>\n",
       "    <tr>\n",
       "      <th>50%</th>\n",
       "      <td>2019-02-07 12:00:00</td>\n",
       "      <td>36150.000000</td>\n",
       "    </tr>\n",
       "    <tr>\n",
       "      <th>75%</th>\n",
       "      <td>2021-02-23 18:00:00</td>\n",
       "      <td>43162.500000</td>\n",
       "    </tr>\n",
       "    <tr>\n",
       "      <th>max</th>\n",
       "      <td>2023-03-13 00:00:00</td>\n",
       "      <td>79000.000000</td>\n",
       "    </tr>\n",
       "    <tr>\n",
       "      <th>std</th>\n",
       "      <td>NaN</td>\n",
       "      <td>13052.612976</td>\n",
       "    </tr>\n",
       "  </tbody>\n",
       "</table>\n",
       "</div>"
      ],
      "text/plain": [
       "                      Date         Price\n",
       "count                  428    428.000000\n",
       "mean   2019-02-07 12:00:00  39557.920561\n",
       "min    2015-01-05 00:00:00  21000.000000\n",
       "25%    2017-01-21 06:00:00  31650.000000\n",
       "50%    2019-02-07 12:00:00  36150.000000\n",
       "75%    2021-02-23 18:00:00  43162.500000\n",
       "max    2023-03-13 00:00:00  79000.000000\n",
       "std                    NaN  13052.612976"
      ]
     },
     "execution_count": 487,
     "metadata": {},
     "output_type": "execute_result"
    }
   ],
   "source": [
    "df.describe()"
   ]
  },
  {
   "cell_type": "code",
   "execution_count": 6,
   "metadata": {},
   "outputs": [],
   "source": [
    "# создаем колонку с месяцем\n",
    "df['Month'] = df['Date'].dt.month\n",
    "# создаем колонку с годом\n",
    "df['Year'] = df['Date'].dt.year\n",
    "# создаем колонку с днем недели на русском\n",
    "df['DayOfWeek'] = df['Date'].dt.day_name(locale='ru_RU')\n"
   ]
  },
  {
   "cell_type": "code",
   "execution_count": null,
   "metadata": {},
   "outputs": [],
   "source": [
    "# словарь с сезонами\n",
    "seasons = {\n",
    "    1: 0, 2: 0, 3: 1,\n",
    "    4: 1, 5: 1, 6: 2,\n",
    "    7: 2, 8: 2, 9: 3,\n",
    "    10: 3, 11: 3, 12: 0\n",
    "}\n",
    "\n",
    "# создаем колонку с сезонами (весна, зима и тд)\n",
    "df['Season'] = df['Date'].dt.month.map(seasons)"
   ]
  },
  {
   "cell_type": "code",
   "execution_count": 490,
   "metadata": {},
   "outputs": [
    {
     "data": {
      "text/html": [
       "<div>\n",
       "<style scoped>\n",
       "    .dataframe tbody tr th:only-of-type {\n",
       "        vertical-align: middle;\n",
       "    }\n",
       "\n",
       "    .dataframe tbody tr th {\n",
       "        vertical-align: top;\n",
       "    }\n",
       "\n",
       "    .dataframe thead th {\n",
       "        text-align: right;\n",
       "    }\n",
       "</style>\n",
       "<table border=\"1\" class=\"dataframe\">\n",
       "  <thead>\n",
       "    <tr style=\"text-align: right;\">\n",
       "      <th></th>\n",
       "      <th>Date</th>\n",
       "      <th>Price</th>\n",
       "      <th>Month</th>\n",
       "      <th>Year</th>\n",
       "      <th>DayOfWeek</th>\n",
       "      <th>Season</th>\n",
       "    </tr>\n",
       "  </thead>\n",
       "  <tbody>\n",
       "    <tr>\n",
       "      <th>0</th>\n",
       "      <td>2015-01-05</td>\n",
       "      <td>32900</td>\n",
       "      <td>1</td>\n",
       "      <td>2015</td>\n",
       "      <td>Понедельник</td>\n",
       "      <td>0</td>\n",
       "    </tr>\n",
       "    <tr>\n",
       "      <th>1</th>\n",
       "      <td>2015-01-12</td>\n",
       "      <td>32500</td>\n",
       "      <td>1</td>\n",
       "      <td>2015</td>\n",
       "      <td>Понедельник</td>\n",
       "      <td>0</td>\n",
       "    </tr>\n",
       "    <tr>\n",
       "      <th>2</th>\n",
       "      <td>2015-01-19</td>\n",
       "      <td>32000</td>\n",
       "      <td>1</td>\n",
       "      <td>2015</td>\n",
       "      <td>Понедельник</td>\n",
       "      <td>0</td>\n",
       "    </tr>\n",
       "    <tr>\n",
       "      <th>3</th>\n",
       "      <td>2015-01-26</td>\n",
       "      <td>30700</td>\n",
       "      <td>1</td>\n",
       "      <td>2015</td>\n",
       "      <td>Понедельник</td>\n",
       "      <td>0</td>\n",
       "    </tr>\n",
       "    <tr>\n",
       "      <th>4</th>\n",
       "      <td>2015-02-02</td>\n",
       "      <td>30300</td>\n",
       "      <td>2</td>\n",
       "      <td>2015</td>\n",
       "      <td>Понедельник</td>\n",
       "      <td>0</td>\n",
       "    </tr>\n",
       "    <tr>\n",
       "      <th>...</th>\n",
       "      <td>...</td>\n",
       "      <td>...</td>\n",
       "      <td>...</td>\n",
       "      <td>...</td>\n",
       "      <td>...</td>\n",
       "      <td>...</td>\n",
       "    </tr>\n",
       "    <tr>\n",
       "      <th>423</th>\n",
       "      <td>2023-02-13</td>\n",
       "      <td>44500</td>\n",
       "      <td>2</td>\n",
       "      <td>2023</td>\n",
       "      <td>Понедельник</td>\n",
       "      <td>0</td>\n",
       "    </tr>\n",
       "    <tr>\n",
       "      <th>424</th>\n",
       "      <td>2023-02-20</td>\n",
       "      <td>46000</td>\n",
       "      <td>2</td>\n",
       "      <td>2023</td>\n",
       "      <td>Понедельник</td>\n",
       "      <td>0</td>\n",
       "    </tr>\n",
       "    <tr>\n",
       "      <th>425</th>\n",
       "      <td>2023-02-27</td>\n",
       "      <td>49200</td>\n",
       "      <td>2</td>\n",
       "      <td>2023</td>\n",
       "      <td>Понедельник</td>\n",
       "      <td>0</td>\n",
       "    </tr>\n",
       "    <tr>\n",
       "      <th>426</th>\n",
       "      <td>2023-03-06</td>\n",
       "      <td>53700</td>\n",
       "      <td>3</td>\n",
       "      <td>2023</td>\n",
       "      <td>Понедельник</td>\n",
       "      <td>0</td>\n",
       "    </tr>\n",
       "    <tr>\n",
       "      <th>427</th>\n",
       "      <td>2023-03-13</td>\n",
       "      <td>55500</td>\n",
       "      <td>3</td>\n",
       "      <td>2023</td>\n",
       "      <td>Понедельник</td>\n",
       "      <td>0</td>\n",
       "    </tr>\n",
       "  </tbody>\n",
       "</table>\n",
       "<p>428 rows × 6 columns</p>\n",
       "</div>"
      ],
      "text/plain": [
       "          Date  Price  Month  Year    DayOfWeek  Season\n",
       "0   2015-01-05  32900      1  2015  Понедельник       0\n",
       "1   2015-01-12  32500      1  2015  Понедельник       0\n",
       "2   2015-01-19  32000      1  2015  Понедельник       0\n",
       "3   2015-01-26  30700      1  2015  Понедельник       0\n",
       "4   2015-02-02  30300      2  2015  Понедельник       0\n",
       "..         ...    ...    ...   ...          ...     ...\n",
       "423 2023-02-13  44500      2  2023  Понедельник       0\n",
       "424 2023-02-20  46000      2  2023  Понедельник       0\n",
       "425 2023-02-27  49200      2  2023  Понедельник       0\n",
       "426 2023-03-06  53700      3  2023  Понедельник       0\n",
       "427 2023-03-13  55500      3  2023  Понедельник       0\n",
       "\n",
       "[428 rows x 6 columns]"
      ]
     },
     "execution_count": 490,
     "metadata": {},
     "output_type": "execute_result"
    }
   ],
   "source": [
    "df"
   ]
  },
  {
   "cell_type": "code",
   "execution_count": 491,
   "metadata": {},
   "outputs": [
    {
     "data": {
      "text/plain": [
       "Date         datetime64[ns]\n",
       "Price                 int64\n",
       "Month                 int32\n",
       "Year                  int32\n",
       "DayOfWeek            object\n",
       "Season                int64\n",
       "dtype: object"
      ]
     },
     "execution_count": 491,
     "metadata": {},
     "output_type": "execute_result"
    }
   ],
   "source": [
    "df.dtypes"
   ]
  },
  {
   "cell_type": "markdown",
   "metadata": {},
   "source": [
    "Создаем `y` (`features`)"
   ]
  },
  {
   "cell_type": "code",
   "execution_count": 8,
   "metadata": {},
   "outputs": [],
   "source": [
    "# Исключаем колонку 'Price' и категориальные колонки\n",
    "y = df.drop(columns=['Date'] + list(df.select_dtypes(include=['object', 'category']).columns))\n",
    "\n",
    "# Сдвигаем данные на один шаг вперед\n",
    "y = y.iloc[1:, :]"
   ]
  },
  {
   "cell_type": "code",
   "execution_count": 493,
   "metadata": {},
   "outputs": [
    {
     "data": {
      "text/html": [
       "<div>\n",
       "<style scoped>\n",
       "    .dataframe tbody tr th:only-of-type {\n",
       "        vertical-align: middle;\n",
       "    }\n",
       "\n",
       "    .dataframe tbody tr th {\n",
       "        vertical-align: top;\n",
       "    }\n",
       "\n",
       "    .dataframe thead th {\n",
       "        text-align: right;\n",
       "    }\n",
       "</style>\n",
       "<table border=\"1\" class=\"dataframe\">\n",
       "  <thead>\n",
       "    <tr style=\"text-align: right;\">\n",
       "      <th></th>\n",
       "      <th>Price</th>\n",
       "      <th>Month</th>\n",
       "      <th>Year</th>\n",
       "      <th>Season</th>\n",
       "    </tr>\n",
       "  </thead>\n",
       "  <tbody>\n",
       "    <tr>\n",
       "      <th>1</th>\n",
       "      <td>32500</td>\n",
       "      <td>1</td>\n",
       "      <td>2015</td>\n",
       "      <td>0</td>\n",
       "    </tr>\n",
       "    <tr>\n",
       "      <th>2</th>\n",
       "      <td>32000</td>\n",
       "      <td>1</td>\n",
       "      <td>2015</td>\n",
       "      <td>0</td>\n",
       "    </tr>\n",
       "    <tr>\n",
       "      <th>3</th>\n",
       "      <td>30700</td>\n",
       "      <td>1</td>\n",
       "      <td>2015</td>\n",
       "      <td>0</td>\n",
       "    </tr>\n",
       "    <tr>\n",
       "      <th>4</th>\n",
       "      <td>30300</td>\n",
       "      <td>2</td>\n",
       "      <td>2015</td>\n",
       "      <td>0</td>\n",
       "    </tr>\n",
       "    <tr>\n",
       "      <th>5</th>\n",
       "      <td>30300</td>\n",
       "      <td>2</td>\n",
       "      <td>2015</td>\n",
       "      <td>0</td>\n",
       "    </tr>\n",
       "    <tr>\n",
       "      <th>...</th>\n",
       "      <td>...</td>\n",
       "      <td>...</td>\n",
       "      <td>...</td>\n",
       "      <td>...</td>\n",
       "    </tr>\n",
       "    <tr>\n",
       "      <th>423</th>\n",
       "      <td>44500</td>\n",
       "      <td>2</td>\n",
       "      <td>2023</td>\n",
       "      <td>0</td>\n",
       "    </tr>\n",
       "    <tr>\n",
       "      <th>424</th>\n",
       "      <td>46000</td>\n",
       "      <td>2</td>\n",
       "      <td>2023</td>\n",
       "      <td>0</td>\n",
       "    </tr>\n",
       "    <tr>\n",
       "      <th>425</th>\n",
       "      <td>49200</td>\n",
       "      <td>2</td>\n",
       "      <td>2023</td>\n",
       "      <td>0</td>\n",
       "    </tr>\n",
       "    <tr>\n",
       "      <th>426</th>\n",
       "      <td>53700</td>\n",
       "      <td>3</td>\n",
       "      <td>2023</td>\n",
       "      <td>0</td>\n",
       "    </tr>\n",
       "    <tr>\n",
       "      <th>427</th>\n",
       "      <td>55500</td>\n",
       "      <td>3</td>\n",
       "      <td>2023</td>\n",
       "      <td>0</td>\n",
       "    </tr>\n",
       "  </tbody>\n",
       "</table>\n",
       "<p>427 rows × 4 columns</p>\n",
       "</div>"
      ],
      "text/plain": [
       "     Price  Month  Year  Season\n",
       "1    32500      1  2015       0\n",
       "2    32000      1  2015       0\n",
       "3    30700      1  2015       0\n",
       "4    30300      2  2015       0\n",
       "5    30300      2  2015       0\n",
       "..     ...    ...   ...     ...\n",
       "423  44500      2  2023       0\n",
       "424  46000      2  2023       0\n",
       "425  49200      2  2023       0\n",
       "426  53700      3  2023       0\n",
       "427  55500      3  2023       0\n",
       "\n",
       "[427 rows x 4 columns]"
      ]
     },
     "execution_count": 493,
     "metadata": {},
     "output_type": "execute_result"
    }
   ],
   "source": [
    "y"
   ]
  },
  {
   "cell_type": "markdown",
   "metadata": {},
   "source": [
    "Создаем `X` (`target`)"
   ]
  },
  {
   "cell_type": "code",
   "execution_count": 9,
   "metadata": {},
   "outputs": [
    {
     "data": {
      "text/plain": [
       "array([32500, 32000, 30700, 30300, 30300, 30100, 29400, 29200, 29000,\n",
       "       28700, 27800, 27200, 26600, 25700, 24800, 24700, 24300, 23900,\n",
       "       24000, 23700, 23500, 23800, 24400, 25000, 25300, 25500, 25500,\n",
       "       25400, 25200, 25000, 24700, 24400, 24100, 24100, 23900, 24200,\n",
       "       24200, 24000, 24000, 23800, 23800, 24200, 24500, 24500, 23950,\n",
       "       23750, 23100, 22800, 22000, 21700, 21300, 21300, 21300, 21200,\n",
       "       21000, 21000, 21000, 21200, 21800, 22450, 23300, 23800, 25500,\n",
       "       26700, 29900, 29950, 31500, 31900, 40300, 43500, 43350, 42950,\n",
       "       42000, 38300, 37500, 36800, 35400, 34400, 33400, 32500, 32000,\n",
       "       31000, 30200, 29200, 28850, 28700, 28500, 30000, 32000, 32500,\n",
       "       33300, 34300, 33700, 32200, 30400, 30200, 29800, 33500, 33500,\n",
       "       33500, 33500, 33000, 32500, 33750, 33750, 33750, 33750, 33000,\n",
       "       32600, 32000, 31300, 30300, 30500, 30700, 30600, 30400, 29800,\n",
       "       29500, 28200, 27500, 26500, 26300, 26300, 26200, 26150, 26150,\n",
       "       26150, 26350, 26550, 26650, 28000, 28800, 29400, 29400, 30900,\n",
       "       33900, 35900, 36800, 38600, 39600, 38800, 38800, 37500, 37000,\n",
       "       35800, 33800, 31500, 30000, 32500, 32500, 32000, 31500, 31700,\n",
       "       31800, 34600, 35600, 35600, 35600, 35300, 34500, 33700, 34000,\n",
       "       33900, 32700, 32900, 33300, 33600, 34800, 36100, 36100, 35900,\n",
       "       35900, 36400, 37900, 37700, 37900, 37900, 37600, 37400, 37400,\n",
       "       37100, 37100, 37200, 37800, 37500, 37500, 39400, 39650, 40750,\n",
       "       43100, 48700, 48850, 48350, 44600, 42600, 41500, 40800, 39700,\n",
       "       39500, 38800, 38300, 38000, 37600, 37600, 37300, 37000, 36700,\n",
       "       36000, 36000, 35700, 35300, 34000, 33800, 34550, 36000, 37700,\n",
       "       40200, 40200, 39900, 39400, 39300, 39500, 39500, 39300, 39300,\n",
       "       39300, 40300, 40000, 40200, 40200, 40300, 41500, 40500, 40500,\n",
       "       40300, 39800, 39800, 40200, 40300, 39200, 38700, 38200, 37700,\n",
       "       36900, 36200, 35000, 34200, 33500, 33300, 33500, 33300, 33800,\n",
       "       33500, 32300, 32200, 31800, 31100, 30600, 31400, 32900, 32900,\n",
       "       33400, 32500, 32890, 33400, 32800, 32000, 31500, 32500, 33500,\n",
       "       34000, 35000, 35000, 34500, 34000, 33500, 33500, 33500, 33500,\n",
       "       33500, 33500, 33000, 33000, 33000, 33700, 34500, 34500, 35000,\n",
       "       35000, 35100, 35100, 35200, 35500, 36500, 37200, 37500, 37500,\n",
       "       38000, 38500, 39500, 40000, 39500, 39500, 39500, 39500, 39500,\n",
       "       39500, 41500, 42500, 51000, 58000, 61000, 61000, 61000, 62000,\n",
       "       62000, 59000, 55000, 51500, 48500, 48000, 49000, 50500, 50800,\n",
       "       51500, 53500, 54500, 58500, 60500, 62500, 63500, 67000, 71900,\n",
       "       71900, 72500, 74000, 74000, 74000, 74000, 73500, 72500, 71500,\n",
       "       69500, 66000, 65000, 63500, 62000, 59000, 56500, 55000, 54000,\n",
       "       56800, 59000, 64000, 73000, 77000, 79000, 78000, 72500, 64000,\n",
       "       61500, 60500, 61500, 62500, 63500, 63500, 63700, 62500, 62900,\n",
       "       65000, 65500, 69000, 78000, 77000, 74000, 67000, 69500, 69500,\n",
       "       67500, 64000, 61500, 58000, 56000, 54000, 50000, 46000, 43500,\n",
       "       42000, 43000, 44000, 45000, 45500, 47000, 47500, 47500, 49000,\n",
       "       47500, 46500, 46000, 46000, 46000, 46000, 45500, 45500, 45000,\n",
       "       44000, 43000, 42000, 41500, 41000, 40000, 40000, 40500, 41700,\n",
       "       41700, 42500, 42700, 42700, 42700, 42800, 42800, 44500, 44500,\n",
       "       46000, 49200, 53700, 55500])"
      ]
     },
     "execution_count": 9,
     "metadata": {},
     "output_type": "execute_result"
    }
   ],
   "source": [
    "X = df['Price'].values[1:]\n",
    "X"
   ]
  },
  {
   "cell_type": "code",
   "execution_count": 10,
   "metadata": {},
   "outputs": [],
   "source": [
    "y['Price_target'] = X"
   ]
  },
  {
   "cell_type": "code",
   "execution_count": 496,
   "metadata": {},
   "outputs": [
    {
     "data": {
      "text/html": [
       "<div>\n",
       "<style scoped>\n",
       "    .dataframe tbody tr th:only-of-type {\n",
       "        vertical-align: middle;\n",
       "    }\n",
       "\n",
       "    .dataframe tbody tr th {\n",
       "        vertical-align: top;\n",
       "    }\n",
       "\n",
       "    .dataframe thead th {\n",
       "        text-align: right;\n",
       "    }\n",
       "</style>\n",
       "<table border=\"1\" class=\"dataframe\">\n",
       "  <thead>\n",
       "    <tr style=\"text-align: right;\">\n",
       "      <th></th>\n",
       "      <th>Price</th>\n",
       "      <th>Month</th>\n",
       "      <th>Year</th>\n",
       "      <th>Season</th>\n",
       "      <th>Price_target</th>\n",
       "    </tr>\n",
       "  </thead>\n",
       "  <tbody>\n",
       "    <tr>\n",
       "      <th>1</th>\n",
       "      <td>32500</td>\n",
       "      <td>1</td>\n",
       "      <td>2015</td>\n",
       "      <td>0</td>\n",
       "      <td>32500</td>\n",
       "    </tr>\n",
       "    <tr>\n",
       "      <th>2</th>\n",
       "      <td>32000</td>\n",
       "      <td>1</td>\n",
       "      <td>2015</td>\n",
       "      <td>0</td>\n",
       "      <td>32000</td>\n",
       "    </tr>\n",
       "    <tr>\n",
       "      <th>3</th>\n",
       "      <td>30700</td>\n",
       "      <td>1</td>\n",
       "      <td>2015</td>\n",
       "      <td>0</td>\n",
       "      <td>30700</td>\n",
       "    </tr>\n",
       "    <tr>\n",
       "      <th>4</th>\n",
       "      <td>30300</td>\n",
       "      <td>2</td>\n",
       "      <td>2015</td>\n",
       "      <td>0</td>\n",
       "      <td>30300</td>\n",
       "    </tr>\n",
       "    <tr>\n",
       "      <th>5</th>\n",
       "      <td>30300</td>\n",
       "      <td>2</td>\n",
       "      <td>2015</td>\n",
       "      <td>0</td>\n",
       "      <td>30300</td>\n",
       "    </tr>\n",
       "    <tr>\n",
       "      <th>...</th>\n",
       "      <td>...</td>\n",
       "      <td>...</td>\n",
       "      <td>...</td>\n",
       "      <td>...</td>\n",
       "      <td>...</td>\n",
       "    </tr>\n",
       "    <tr>\n",
       "      <th>423</th>\n",
       "      <td>44500</td>\n",
       "      <td>2</td>\n",
       "      <td>2023</td>\n",
       "      <td>0</td>\n",
       "      <td>44500</td>\n",
       "    </tr>\n",
       "    <tr>\n",
       "      <th>424</th>\n",
       "      <td>46000</td>\n",
       "      <td>2</td>\n",
       "      <td>2023</td>\n",
       "      <td>0</td>\n",
       "      <td>46000</td>\n",
       "    </tr>\n",
       "    <tr>\n",
       "      <th>425</th>\n",
       "      <td>49200</td>\n",
       "      <td>2</td>\n",
       "      <td>2023</td>\n",
       "      <td>0</td>\n",
       "      <td>49200</td>\n",
       "    </tr>\n",
       "    <tr>\n",
       "      <th>426</th>\n",
       "      <td>53700</td>\n",
       "      <td>3</td>\n",
       "      <td>2023</td>\n",
       "      <td>0</td>\n",
       "      <td>53700</td>\n",
       "    </tr>\n",
       "    <tr>\n",
       "      <th>427</th>\n",
       "      <td>55500</td>\n",
       "      <td>3</td>\n",
       "      <td>2023</td>\n",
       "      <td>0</td>\n",
       "      <td>55500</td>\n",
       "    </tr>\n",
       "  </tbody>\n",
       "</table>\n",
       "<p>427 rows × 5 columns</p>\n",
       "</div>"
      ],
      "text/plain": [
       "     Price  Month  Year  Season  Price_target\n",
       "1    32500      1  2015       0         32500\n",
       "2    32000      1  2015       0         32000\n",
       "3    30700      1  2015       0         30700\n",
       "4    30300      2  2015       0         30300\n",
       "5    30300      2  2015       0         30300\n",
       "..     ...    ...   ...     ...           ...\n",
       "423  44500      2  2023       0         44500\n",
       "424  46000      2  2023       0         46000\n",
       "425  49200      2  2023       0         49200\n",
       "426  53700      3  2023       0         53700\n",
       "427  55500      3  2023       0         55500\n",
       "\n",
       "[427 rows x 5 columns]"
      ]
     },
     "execution_count": 496,
     "metadata": {},
     "output_type": "execute_result"
    }
   ],
   "source": [
    "y"
   ]
  },
  {
   "cell_type": "code",
   "execution_count": 11,
   "metadata": {},
   "outputs": [
    {
     "data": {
      "text/html": [
       "<div>\n",
       "<style scoped>\n",
       "    .dataframe tbody tr th:only-of-type {\n",
       "        vertical-align: middle;\n",
       "    }\n",
       "\n",
       "    .dataframe tbody tr th {\n",
       "        vertical-align: top;\n",
       "    }\n",
       "\n",
       "    .dataframe thead th {\n",
       "        text-align: right;\n",
       "    }\n",
       "</style>\n",
       "<table border=\"1\" class=\"dataframe\">\n",
       "  <thead>\n",
       "    <tr style=\"text-align: right;\">\n",
       "      <th></th>\n",
       "      <th>Month</th>\n",
       "      <th>Year</th>\n",
       "      <th>Season</th>\n",
       "    </tr>\n",
       "  </thead>\n",
       "  <tbody>\n",
       "    <tr>\n",
       "      <th>1</th>\n",
       "      <td>1</td>\n",
       "      <td>2015</td>\n",
       "      <td>0</td>\n",
       "    </tr>\n",
       "    <tr>\n",
       "      <th>2</th>\n",
       "      <td>1</td>\n",
       "      <td>2015</td>\n",
       "      <td>0</td>\n",
       "    </tr>\n",
       "    <tr>\n",
       "      <th>3</th>\n",
       "      <td>1</td>\n",
       "      <td>2015</td>\n",
       "      <td>0</td>\n",
       "    </tr>\n",
       "    <tr>\n",
       "      <th>4</th>\n",
       "      <td>2</td>\n",
       "      <td>2015</td>\n",
       "      <td>0</td>\n",
       "    </tr>\n",
       "    <tr>\n",
       "      <th>5</th>\n",
       "      <td>2</td>\n",
       "      <td>2015</td>\n",
       "      <td>0</td>\n",
       "    </tr>\n",
       "    <tr>\n",
       "      <th>...</th>\n",
       "      <td>...</td>\n",
       "      <td>...</td>\n",
       "      <td>...</td>\n",
       "    </tr>\n",
       "    <tr>\n",
       "      <th>423</th>\n",
       "      <td>2</td>\n",
       "      <td>2023</td>\n",
       "      <td>0</td>\n",
       "    </tr>\n",
       "    <tr>\n",
       "      <th>424</th>\n",
       "      <td>2</td>\n",
       "      <td>2023</td>\n",
       "      <td>0</td>\n",
       "    </tr>\n",
       "    <tr>\n",
       "      <th>425</th>\n",
       "      <td>2</td>\n",
       "      <td>2023</td>\n",
       "      <td>0</td>\n",
       "    </tr>\n",
       "    <tr>\n",
       "      <th>426</th>\n",
       "      <td>3</td>\n",
       "      <td>2023</td>\n",
       "      <td>1</td>\n",
       "    </tr>\n",
       "    <tr>\n",
       "      <th>427</th>\n",
       "      <td>3</td>\n",
       "      <td>2023</td>\n",
       "      <td>1</td>\n",
       "    </tr>\n",
       "  </tbody>\n",
       "</table>\n",
       "<p>427 rows × 3 columns</p>\n",
       "</div>"
      ],
      "text/plain": [
       "     Month  Year  Season\n",
       "1        1  2015       0\n",
       "2        1  2015       0\n",
       "3        1  2015       0\n",
       "4        2  2015       0\n",
       "5        2  2015       0\n",
       "..     ...   ...     ...\n",
       "423      2  2023       0\n",
       "424      2  2023       0\n",
       "425      2  2023       0\n",
       "426      3  2023       1\n",
       "427      3  2023       1\n",
       "\n",
       "[427 rows x 3 columns]"
      ]
     },
     "execution_count": 11,
     "metadata": {},
     "output_type": "execute_result"
    }
   ],
   "source": [
    "y = y.drop(columns=['Price', 'Price_target'])\n",
    "y"
   ]
  },
  {
   "cell_type": "code",
   "execution_count": null,
   "metadata": {},
   "outputs": [
    {
     "data": {
      "text/html": [
       "<div>\n",
       "<style scoped>\n",
       "    .dataframe tbody tr th:only-of-type {\n",
       "        vertical-align: middle;\n",
       "    }\n",
       "\n",
       "    .dataframe tbody tr th {\n",
       "        vertical-align: top;\n",
       "    }\n",
       "\n",
       "    .dataframe thead th {\n",
       "        text-align: right;\n",
       "    }\n",
       "</style>\n",
       "<table border=\"1\" class=\"dataframe\">\n",
       "  <thead>\n",
       "    <tr style=\"text-align: right;\">\n",
       "      <th></th>\n",
       "      <th>Month</th>\n",
       "      <th>Year</th>\n",
       "      <th>DayOfWeek</th>\n",
       "      <th>Season</th>\n",
       "      <th>Price_source</th>\n",
       "      <th>Price_Diff</th>\n",
       "    </tr>\n",
       "  </thead>\n",
       "  <tbody>\n",
       "    <tr>\n",
       "      <th>1</th>\n",
       "      <td>1</td>\n",
       "      <td>2015</td>\n",
       "      <td>Понедельник</td>\n",
       "      <td>0</td>\n",
       "      <td>32500</td>\n",
       "      <td>400</td>\n",
       "    </tr>\n",
       "    <tr>\n",
       "      <th>2</th>\n",
       "      <td>1</td>\n",
       "      <td>2015</td>\n",
       "      <td>Понедельник</td>\n",
       "      <td>0</td>\n",
       "      <td>32000</td>\n",
       "      <td>500</td>\n",
       "    </tr>\n",
       "    <tr>\n",
       "      <th>3</th>\n",
       "      <td>1</td>\n",
       "      <td>2015</td>\n",
       "      <td>Понедельник</td>\n",
       "      <td>0</td>\n",
       "      <td>30700</td>\n",
       "      <td>1300</td>\n",
       "    </tr>\n",
       "    <tr>\n",
       "      <th>4</th>\n",
       "      <td>2</td>\n",
       "      <td>2015</td>\n",
       "      <td>Понедельник</td>\n",
       "      <td>0</td>\n",
       "      <td>30300</td>\n",
       "      <td>400</td>\n",
       "    </tr>\n",
       "    <tr>\n",
       "      <th>5</th>\n",
       "      <td>2</td>\n",
       "      <td>2015</td>\n",
       "      <td>Понедельник</td>\n",
       "      <td>0</td>\n",
       "      <td>30300</td>\n",
       "      <td>0</td>\n",
       "    </tr>\n",
       "    <tr>\n",
       "      <th>...</th>\n",
       "      <td>...</td>\n",
       "      <td>...</td>\n",
       "      <td>...</td>\n",
       "      <td>...</td>\n",
       "      <td>...</td>\n",
       "      <td>...</td>\n",
       "    </tr>\n",
       "    <tr>\n",
       "      <th>422</th>\n",
       "      <td>2</td>\n",
       "      <td>2023</td>\n",
       "      <td>Понедельник</td>\n",
       "      <td>0</td>\n",
       "      <td>44500</td>\n",
       "      <td>-1700</td>\n",
       "    </tr>\n",
       "    <tr>\n",
       "      <th>423</th>\n",
       "      <td>2</td>\n",
       "      <td>2023</td>\n",
       "      <td>Понедельник</td>\n",
       "      <td>0</td>\n",
       "      <td>44500</td>\n",
       "      <td>0</td>\n",
       "    </tr>\n",
       "    <tr>\n",
       "      <th>424</th>\n",
       "      <td>2</td>\n",
       "      <td>2023</td>\n",
       "      <td>Понедельник</td>\n",
       "      <td>0</td>\n",
       "      <td>46000</td>\n",
       "      <td>-1500</td>\n",
       "    </tr>\n",
       "    <tr>\n",
       "      <th>425</th>\n",
       "      <td>2</td>\n",
       "      <td>2023</td>\n",
       "      <td>Понедельник</td>\n",
       "      <td>0</td>\n",
       "      <td>49200</td>\n",
       "      <td>-3200</td>\n",
       "    </tr>\n",
       "    <tr>\n",
       "      <th>426</th>\n",
       "      <td>3</td>\n",
       "      <td>2023</td>\n",
       "      <td>Понедельник</td>\n",
       "      <td>0</td>\n",
       "      <td>53700</td>\n",
       "      <td>-4500</td>\n",
       "    </tr>\n",
       "  </tbody>\n",
       "</table>\n",
       "<p>426 rows × 6 columns</p>\n",
       "</div>"
      ],
      "text/plain": [
       "     Month  Year    DayOfWeek  Season  Price_source  Price_Diff\n",
       "1        1  2015  Понедельник       0         32500         400\n",
       "2        1  2015  Понедельник       0         32000         500\n",
       "3        1  2015  Понедельник       0         30700        1300\n",
       "4        2  2015  Понедельник       0         30300         400\n",
       "5        2  2015  Понедельник       0         30300           0\n",
       "..     ...   ...          ...     ...           ...         ...\n",
       "422      2  2023  Понедельник       0         44500       -1700\n",
       "423      2  2023  Понедельник       0         44500           0\n",
       "424      2  2023  Понедельник       0         46000       -1500\n",
       "425      2  2023  Понедельник       0         49200       -3200\n",
       "426      3  2023  Понедельник       0         53700       -4500\n",
       "\n",
       "[426 rows x 6 columns]"
      ]
     },
     "execution_count": 418,
     "metadata": {},
     "output_type": "execute_result"
    }
   ],
   "source": [
    "# y = df.drop(columns=['Price']).iloc[:-1, :]\n",
    "# X = df['Price'].values[1:]\n",
    "# y['Price_target'] = X\n",
    "# y['Price_source'] = df['Price'].values[:-1]\n",
    "# price_diff = y['Price_source'] - y['Price_target']\n",
    "# X = y['Price_target']\n",
    "# y = y.drop(columns=['Price_target', 'Date'])\n",
    "# y = y.drop([0])\n",
    "# y['Price_Diff'] = price_diff.values[:-1]\n",
    "# y"
   ]
  },
  {
   "cell_type": "code",
   "execution_count": 498,
   "metadata": {},
   "outputs": [
    {
     "data": {
      "text/html": [
       "<div>\n",
       "<style scoped>\n",
       "    .dataframe tbody tr th:only-of-type {\n",
       "        vertical-align: middle;\n",
       "    }\n",
       "\n",
       "    .dataframe tbody tr th {\n",
       "        vertical-align: top;\n",
       "    }\n",
       "\n",
       "    .dataframe thead th {\n",
       "        text-align: right;\n",
       "    }\n",
       "</style>\n",
       "<table border=\"1\" class=\"dataframe\">\n",
       "  <thead>\n",
       "    <tr style=\"text-align: right;\">\n",
       "      <th></th>\n",
       "      <th>0</th>\n",
       "    </tr>\n",
       "  </thead>\n",
       "  <tbody>\n",
       "    <tr>\n",
       "      <th>count</th>\n",
       "      <td>427.000000</td>\n",
       "    </tr>\n",
       "    <tr>\n",
       "      <th>mean</th>\n",
       "      <td>39573.512881</td>\n",
       "    </tr>\n",
       "    <tr>\n",
       "      <th>std</th>\n",
       "      <td>13063.932675</td>\n",
       "    </tr>\n",
       "    <tr>\n",
       "      <th>min</th>\n",
       "      <td>21000.000000</td>\n",
       "    </tr>\n",
       "    <tr>\n",
       "      <th>25%</th>\n",
       "      <td>31600.000000</td>\n",
       "    </tr>\n",
       "    <tr>\n",
       "      <th>50%</th>\n",
       "      <td>36200.000000</td>\n",
       "    </tr>\n",
       "    <tr>\n",
       "      <th>75%</th>\n",
       "      <td>43225.000000</td>\n",
       "    </tr>\n",
       "    <tr>\n",
       "      <th>max</th>\n",
       "      <td>79000.000000</td>\n",
       "    </tr>\n",
       "  </tbody>\n",
       "</table>\n",
       "</div>"
      ],
      "text/plain": [
       "                  0\n",
       "count    427.000000\n",
       "mean   39573.512881\n",
       "std    13063.932675\n",
       "min    21000.000000\n",
       "25%    31600.000000\n",
       "50%    36200.000000\n",
       "75%    43225.000000\n",
       "max    79000.000000"
      ]
     },
     "execution_count": 498,
     "metadata": {},
     "output_type": "execute_result"
    }
   ],
   "source": [
    "pd.DataFrame(X).describe()"
   ]
  },
  {
   "cell_type": "code",
   "execution_count": 39,
   "metadata": {},
   "outputs": [
    {
     "data": {
      "text/html": [
       "<div>\n",
       "<style scoped>\n",
       "    .dataframe tbody tr th:only-of-type {\n",
       "        vertical-align: middle;\n",
       "    }\n",
       "\n",
       "    .dataframe tbody tr th {\n",
       "        vertical-align: top;\n",
       "    }\n",
       "\n",
       "    .dataframe thead th {\n",
       "        text-align: right;\n",
       "    }\n",
       "</style>\n",
       "<table border=\"1\" class=\"dataframe\">\n",
       "  <thead>\n",
       "    <tr style=\"text-align: right;\">\n",
       "      <th></th>\n",
       "      <th>Month</th>\n",
       "      <th>Year</th>\n",
       "    </tr>\n",
       "  </thead>\n",
       "  <tbody>\n",
       "    <tr>\n",
       "      <th>count</th>\n",
       "      <td>427.000000</td>\n",
       "      <td>427.000000</td>\n",
       "    </tr>\n",
       "    <tr>\n",
       "      <th>mean</th>\n",
       "      <td>6.405152</td>\n",
       "      <td>2018.622951</td>\n",
       "    </tr>\n",
       "    <tr>\n",
       "      <th>std</th>\n",
       "      <td>3.479284</td>\n",
       "      <td>2.367768</td>\n",
       "    </tr>\n",
       "    <tr>\n",
       "      <th>min</th>\n",
       "      <td>1.000000</td>\n",
       "      <td>2015.000000</td>\n",
       "    </tr>\n",
       "    <tr>\n",
       "      <th>25%</th>\n",
       "      <td>3.000000</td>\n",
       "      <td>2017.000000</td>\n",
       "    </tr>\n",
       "    <tr>\n",
       "      <th>50%</th>\n",
       "      <td>6.000000</td>\n",
       "      <td>2019.000000</td>\n",
       "    </tr>\n",
       "    <tr>\n",
       "      <th>75%</th>\n",
       "      <td>9.000000</td>\n",
       "      <td>2021.000000</td>\n",
       "    </tr>\n",
       "    <tr>\n",
       "      <th>max</th>\n",
       "      <td>12.000000</td>\n",
       "      <td>2023.000000</td>\n",
       "    </tr>\n",
       "  </tbody>\n",
       "</table>\n",
       "</div>"
      ],
      "text/plain": [
       "            Month         Year\n",
       "count  427.000000   427.000000\n",
       "mean     6.405152  2018.622951\n",
       "std      3.479284     2.367768\n",
       "min      1.000000  2015.000000\n",
       "25%      3.000000  2017.000000\n",
       "50%      6.000000  2019.000000\n",
       "75%      9.000000  2021.000000\n",
       "max     12.000000  2023.000000"
      ]
     },
     "execution_count": 39,
     "metadata": {},
     "output_type": "execute_result"
    }
   ],
   "source": [
    "y.describe()"
   ]
  },
  {
   "cell_type": "code",
   "execution_count": 12,
   "metadata": {},
   "outputs": [
    {
     "data": {
      "text/plain": [
       "<Axes: >"
      ]
     },
     "execution_count": 12,
     "metadata": {},
     "output_type": "execute_result"
    },
    {
     "data": {
      "image/png": "[encoded data removed]",
      "text/plain": [
       "<Figure size 640x480 with 1 Axes>"
      ]
     },
     "metadata": {},
     "output_type": "display_data"
    }
   ],
   "source": [
    "pd.DataFrame(X).plot()"
   ]
  },
  {
   "cell_type": "code",
   "execution_count": 501,
   "metadata": {},
   "outputs": [
    {
     "data": {
      "text/plain": [
       "(427,)"
      ]
     },
     "execution_count": 501,
     "metadata": {},
     "output_type": "execute_result"
    }
   ],
   "source": [
    "X.shape"
   ]
  },
  {
   "cell_type": "code",
   "execution_count": 539,
   "metadata": {},
   "outputs": [
    {
     "data": {
      "text/plain": [
       "array([32500, 32000, 30700, 30300, 30300, 30100, 29400, 29200, 29000,\n",
       "       28700, 27800, 27200, 26600, 25700, 24800, 24700, 24300, 23900,\n",
       "       24000, 23700, 23500, 23800, 24400, 25000, 25300, 25500, 25500,\n",
       "       25400, 25200, 25000, 24700, 24400, 24100, 24100, 23900, 24200,\n",
       "       24200, 24000, 24000, 23800, 23800, 24200, 24500, 24500, 23950,\n",
       "       23750, 23100, 22800, 22000, 21700, 21300, 21300, 21300, 21200,\n",
       "       21000, 21000, 21000, 21200, 21800, 22450, 23300, 23800, 25500,\n",
       "       26700, 29900, 29950, 31500, 31900, 40300, 43500, 43350, 42950,\n",
       "       42000, 38300, 37500, 36800, 35400, 34400, 33400, 32500, 32000,\n",
       "       31000, 30200, 29200, 28850, 28700, 28500, 30000, 32000, 32500,\n",
       "       33300, 34300, 33700, 32200, 30400, 30200, 29800, 33500, 33500,\n",
       "       33500, 33500, 33000, 32500, 33750, 33750, 33750, 33750, 33000,\n",
       "       32600, 32000, 31300, 30300, 30500, 30700, 30600, 30400, 29800,\n",
       "       29500, 28200, 27500, 26500, 26300, 26300, 26200, 26150, 26150,\n",
       "       26150, 26350, 26550, 26650, 28000, 28800, 29400, 29400, 30900,\n",
       "       33900, 35900, 36800, 38600, 39600, 38800, 38800, 37500, 37000,\n",
       "       35800, 33800, 31500, 30000, 32500, 32500, 32000, 31500, 31700,\n",
       "       31800, 34600, 35600, 35600, 35600, 35300, 34500, 33700, 34000,\n",
       "       33900, 32700, 32900, 33300, 33600, 34800, 36100, 36100, 35900,\n",
       "       35900, 36400, 37900, 37700, 37900, 37900, 37600, 37400, 37400,\n",
       "       37100, 37100, 37200, 37800, 37500, 37500, 39400, 39650, 40750,\n",
       "       43100, 48700, 48850, 48350, 44600, 42600, 41500, 40800, 39700,\n",
       "       39500, 38800, 38300, 38000, 37600, 37600, 37300, 37000, 36700,\n",
       "       36000, 36000, 35700, 35300, 34000, 33800, 34550, 36000, 37700,\n",
       "       40200, 40200, 39900, 39400, 39300, 39500, 39500, 39300, 39300,\n",
       "       39300, 40300, 40000, 40200, 40200, 40300, 41500, 40500, 40500,\n",
       "       40300, 39800, 39800, 40200, 40300, 39200, 38700, 38200, 37700,\n",
       "       36900, 36200, 35000, 34200, 33500, 33300, 33500, 33300, 33800,\n",
       "       33500, 32300, 32200, 31800, 31100, 30600, 31400, 32900, 32900,\n",
       "       33400, 32500, 32890, 33400, 32800, 32000, 31500, 32500, 33500,\n",
       "       34000, 35000, 35000, 34500, 34000, 33500, 33500, 33500, 33500,\n",
       "       33500, 33500, 33000, 33000, 33000, 33700, 34500, 34500, 35000,\n",
       "       35000, 35100, 35100, 35200, 35500, 36500, 37200, 37500, 37500,\n",
       "       38000, 38500, 39500, 40000, 39500, 39500, 39500, 39500, 39500,\n",
       "       39500, 41500, 42500, 51000, 58000, 61000, 61000, 61000, 62000,\n",
       "       62000, 59000, 55000, 51500, 48500, 48000, 49000, 50500, 50800,\n",
       "       51500, 53500, 54500, 58500, 60500, 62500, 63500, 67000, 71900,\n",
       "       71900, 72500, 74000, 74000, 74000, 74000, 73500, 72500, 71500,\n",
       "       69500, 66000, 65000, 63500, 62000, 59000, 56500, 55000, 54000,\n",
       "       56800, 59000, 64000, 73000, 77000, 79000, 78000, 72500, 64000,\n",
       "       61500, 60500, 61500, 62500, 63500, 63500, 63700, 62500, 62900,\n",
       "       65000, 65500, 69000, 78000, 77000, 74000, 67000, 69500, 69500,\n",
       "       67500, 64000, 61500, 58000, 56000, 54000, 50000, 46000, 43500,\n",
       "       42000, 43000, 44000, 45000, 45500, 47000, 47500, 47500, 49000,\n",
       "       47500, 46500, 46000, 46000, 46000, 46000, 45500, 45500, 45000,\n",
       "       44000, 43000, 42000, 41500, 41000, 40000, 40000, 40500, 41700,\n",
       "       41700, 42500, 42700, 42700, 42700, 42800, 42800, 44500, 44500,\n",
       "       46000, 49200, 53700, 55500])"
      ]
     },
     "execution_count": 539,
     "metadata": {},
     "output_type": "execute_result"
    }
   ],
   "source": [
    "X"
   ]
  },
  {
   "cell_type": "code",
   "execution_count": 502,
   "metadata": {},
   "outputs": [
    {
     "data": {
      "text/plain": [
       "(427, 3)"
      ]
     },
     "execution_count": 502,
     "metadata": {},
     "output_type": "execute_result"
    }
   ],
   "source": [
    "y.shape"
   ]
  },
  {
   "cell_type": "code",
   "execution_count": 33,
   "metadata": {},
   "outputs": [],
   "source": [
    "\n",
    "# X = X[y.index]  # Пересинхронизируем индексы\n",
    "\n",
    "X_train, X_holdout, y_train, y_holdout = train_test_split(\n",
    "    y, X, test_size=0.2, shuffle=True, random_state=42\n",
    ")"
   ]
  },
  {
   "cell_type": "code",
   "execution_count": 196,
   "metadata": {},
   "outputs": [],
   "source": [
    "# from catboost import CatBoostRegressor\n",
    "# model0 = CatBoostRegressor(iterations=10000, depth = 7, loss_function='MAE' , learning_rate = 0.03,  eval_metric=\"MAE\",\n",
    "# early_stopping_rounds = 100 , random_state=42)\n",
    "# # ---------------------\n",
    "# import xgboost as xgb\n",
    "# from sklearn.metrics import mean_squared_error\n",
    "\n",
    "# model = xgb.XGBRegressor(objective='reg:squarederror', n_estimators=100, learning_rate=0.1, max_depth=5)\n",
    "# model.fit(X_train, y_train)\n",
    "\n",
    "# # Предсказание\n",
    "# y_pred = model.predict(X_test)\n",
    "\n",
    "# # Оценка модели\n",
    "# mse = mean_squared_error(y_test, y_pred)\n",
    "# print(f'MSE: {mse}')"
   ]
  },
  {
   "cell_type": "code",
   "execution_count": null,
   "metadata": {},
   "outputs": [],
   "source": [
    "# df_train = df['Price'].iloc[:-28]\n",
    "# df_test = df['Price'].iloc[-28:]"
   ]
  },
  {
   "cell_type": "code",
   "execution_count": 453,
   "metadata": {},
   "outputs": [],
   "source": [
    "\n",
    "# model = AutoReg(df_train, lags=[i for i in range(40,200,15)]).fit()\n",
    "# # best_score = [-1000, -1]\n",
    "# # for i in range(1, 149):\n",
    "# #     model = AutoReg(df_train, lags=i).fit()\n",
    "# #     forecasts = model.forecast(50).tolist()\n",
    "# #     if r2_score(forecasts, df_test) > best_score[0]:\n",
    "# #         best_score = [r2_score(forecasts, df_test), i]\n",
    "# # print(best_score)\n",
    "# y = model.forecast(28).tolist()\n",
    "# print('R2 score:', r2_score(y, df_test))\n",
    "# print('MSE score:', mean_squared_error(y, df_test))\n",
    "# print('MAE score:', mean_absolute_error(y, df_test))\n",
    "\n",
    "\n",
    "# plt.figure(figsize=(14, 6))\n",
    "# plt.plot(df_test.reset_index(drop=True), label='Фактические значения')\n",
    "# plt.plot(y, label='Предсказанные значения')\n",
    "# plt.title('Сравнение фактических и предсказанных значений')\n",
    "# plt.xlabel('Индекс')\n",
    "# plt.ylabel('Значения')\n",
    "# plt.legend()\n",
    "# plt.show()"
   ]
  },
  {
   "cell_type": "code",
   "execution_count": 34,
   "metadata": {},
   "outputs": [
    {
     "name": "stderr",
     "output_type": "stream",
     "text": [
      "c:\\Users\\Egor Bukharov\\AppData\\Local\\Programs\\Python\\Python313\\Lib\\site-packages\\statsmodels\\tsa\\base\\tsa_model.py:473: ValueWarning: An unsupported index was provided. As a result, forecasts cannot be generated. To use the model for forecasting, use one of the supported classes of index.\n",
      "  self._init_dates(dates, freq)\n"
     ]
    }
   ],
   "source": [
    "# Обучение модели на X_train и y_train\n",
    "model = AutoReg(y_train, lags=[i for i in range(1, 20, 5)], exog=X_train).fit()"
   ]
  },
  {
   "cell_type": "code",
   "execution_count": 35,
   "metadata": {},
   "outputs": [
    {
     "name": "stderr",
     "output_type": "stream",
     "text": [
      "c:\\Users\\Egor Bukharov\\AppData\\Local\\Programs\\Python\\Python313\\Lib\\site-packages\\statsmodels\\tsa\\base\\tsa_model.py:837: ValueWarning: No supported index is available. Prediction results will be given with an integer index beginning at `start`.\n",
      "  return get_prediction_index(\n",
      "c:\\Users\\Egor Bukharov\\AppData\\Local\\Programs\\Python\\Python313\\Lib\\site-packages\\statsmodels\\tsa\\base\\tsa_model.py:837: FutureWarning: No supported index is available. In the next version, calling this method in a model without a supported index will result in an exception.\n",
      "  return get_prediction_index(\n"
     ]
    }
   ],
   "source": [
    "\n",
    "\n",
    "# Прогнозирование на тестовой выборке\n",
    "y_pred = model.forecast(steps=len(X_holdout), exog=X_holdout).tolist()"
   ]
  },
  {
   "cell_type": "code",
   "execution_count": 36,
   "metadata": {},
   "outputs": [
    {
     "name": "stdout",
     "output_type": "stream",
     "text": [
      "R2 score: 0.5248187301717323\n",
      "MSE score: 78563145.17363483\n",
      "MAE score: 6781.874354597788\n"
     ]
    }
   ],
   "source": [
    "\n",
    "# Оценка качества модели\n",
    "print('R2 score:', r2_score(y_holdout, y_pred))\n",
    "print('MSE score:', mean_squared_error(y_holdout, y_pred))\n",
    "print('MAE score:', mean_absolute_error(y_holdout, y_pred))"
   ]
  },
  {
   "cell_type": "code",
   "execution_count": 37,
   "metadata": {},
   "outputs": [
    {
     "data": {
      "text/plain": [
       "array([42800, 36800, 37600, 24700, 72500, 35000, 35600, 31700, 33300,\n",
       "       37900, 41000, 43350, 40800, 42700, 23800, 38800, 54000, 42000,\n",
       "       28700, 45500, 38000, 39300, 77000, 21000, 38800, 42600, 33800,\n",
       "       43500, 33500, 62500, 26150, 33300, 67000, 32200, 44500, 34400,\n",
       "       36000, 56800, 51500, 46000, 39300, 32500, 33400, 38300, 24100,\n",
       "       29800, 47500, 35400, 40300, 74000, 24700, 32000, 39500, 32500,\n",
       "       23700, 69500, 33000, 21000, 36400, 30200, 48350, 33500, 32500,\n",
       "       33300, 61500, 25500, 44000, 37100, 37900, 24500, 37500, 42500,\n",
       "       33750, 67500, 42700, 33500, 24400, 23100, 33000, 30700, 30400,\n",
       "       69500, 21200, 26150, 25300, 23900])"
      ]
     },
     "execution_count": 37,
     "metadata": {},
     "output_type": "execute_result"
    }
   ],
   "source": [
    "y_holdout"
   ]
  },
  {
   "cell_type": "code",
   "execution_count": 38,
   "metadata": {},
   "outputs": [
    {
     "data": {
      "image/png": "[encoded data removed]",
      "text/plain": [
       "<Figure size 1400x600 with 1 Axes>"
      ]
     },
     "metadata": {},
     "output_type": "display_data"
    }
   ],
   "source": [
    "# Визуализация результатов\n",
    "plt.figure(figsize=(14, 6))\n",
    "plt.plot(y_holdout, label='Фактические значения')\n",
    "plt.plot(y_pred, label='Предсказанные значения')\n",
    "plt.title('Сравнение фактических и предсказанных значений')\n",
    "plt.xlabel('Индекс')\n",
    "plt.ylabel('Значения')\n",
    "plt.legend()\n",
    "plt.show()"
   ]
  },
  {
   "cell_type": "markdown",
   "metadata": {},
   "source": [
    "Было (до того как [я все перелопатил](https://github.com/Rainfue)):"
   ]
  },
  {
   "attachments": {
    "image.png": {
     "image/png": "[encoded data removed]"
    }
   },
   "cell_type": "markdown",
   "metadata": {},
   "source": [
    "![image.png](attachment:image.png)"
   ]
  },
  {
   "cell_type": "code",
   "execution_count": 536,
   "metadata": {},
   "outputs": [],
   "source": [
    "import joblib\n",
    "joblib.dump(model, 'model.joblib')\n",
    "\n",
    "import pickle\n",
    "with open('model.pkl', 'wb') as f: pickle.dump(model, f)"
   ]
  }
 ],
 "metadata": {
  "kernelspec": {
   "display_name": "Python 3",
   "language": "python",
   "name": "python3"
  },
  "language_info": {
   "codemirror_mode": {
    "name": "ipython",
    "version": 3
   },
   "file_extension": ".py",
   "mimetype": "text/x-python",
   "name": "python",
   "nbconvert_exporter": "python",
   "pygments_lexer": "ipython3",
   "version": "3.13.1"
  }
 },
 "nbformat": 4,
 "nbformat_minor": 2
}
